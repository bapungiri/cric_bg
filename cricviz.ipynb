{
 "cells": [
  {
   "cell_type": "code",
   "execution_count": null,
   "id": "c082669f",
   "metadata": {},
   "outputs": [],
   "source": [
    "import numpy as np\n",
    "import pandas as pd\n",
    "from pathlib import Path, WindowsPath\n",
    "import json\n",
    "from criclens.io import FromJson\n",
    "\n",
    "basedir = Path(r\"D:\\Data\\more\\cric\\ipl_male\")\n",
    "\n",
    "files = sorted(basedir.glob(\"*.json\"))"
   ]
  },
  {
   "cell_type": "code",
   "execution_count": null,
   "id": "c0945dee",
   "metadata": {},
   "outputs": [],
   "source": [
    "import matplotlib.pyplot as plt\n",
    "\n",
    "# players = [\"Kohli\", \"Dhoni\", \"RG Sharma\", \"villiers\"]\n",
    "players = [\"Gayle\", \"kohli\"]\n",
    "\n",
    "for player in players:\n",
    "    vk_data = matches_df[\n",
    "        matches_df[\"batter\"].str.contains(player, case=False)\n",
    "    ].reset_index()\n",
    "\n",
    "    vk_data_hit = vk_data[(vk_data[\"wide\"] == 0)]\n",
    "    # print(vk_data_hit.head(10))\n",
    "\n",
    "    n_balls = (\n",
    "        vk_data_hit.groupby([\"over\"])\n",
    "        .count()\n",
    "        .reset_index()[[\"over\", \"ball\", \"batter_runs\"]]\n",
    "    )\n",
    "    total_runs = (\n",
    "        vk_data_hit.groupby([\"over\"])\n",
    "        .sum(numeric_only=True)\n",
    "        .reset_index()[[\"over\", \"batter_runs\"]]\n",
    "    )\n",
    "\n",
    "    total_runs[\"ball\"] = n_balls[\"ball\"]\n",
    "\n",
    "    total_runs[\"strike_rate\"] = (total_runs[\"batter_runs\"] / total_runs[\"ball\"]) * 100\n",
    "    # total_runs = total_runs[total_runs[\"ball\"] >= 30]\n",
    "\n",
    "    plt.plot(total_runs[\"over\"], total_runs[\"strike_rate\"])"
   ]
  },
  {
   "cell_type": "code",
   "execution_count": null,
   "id": "935f71c9",
   "metadata": {},
   "outputs": [],
   "source": [
    "matches_df"
   ]
  }
 ],
 "metadata": {
  "kernelspec": {
   "display_name": "cric_analysis",
   "language": "python",
   "name": "python3"
  },
  "language_info": {
   "codemirror_mode": {
    "name": "ipython",
    "version": 3
   },
   "file_extension": ".py",
   "mimetype": "text/x-python",
   "name": "python",
   "nbconvert_exporter": "python",
   "pygments_lexer": "ipython3",
   "version": "3.13.3"
  }
 },
 "nbformat": 4,
 "nbformat_minor": 5
}
